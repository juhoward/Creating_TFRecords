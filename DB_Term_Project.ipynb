{
 "cells": [
  {
   "cell_type": "code",
   "execution_count": 54,
   "metadata": {},
   "outputs": [
    {
     "data": {
      "text/plain": [
       "'c:\\\\users\\\\howar\\\\documents\\\\database_management\\\\Term_project'"
      ]
     },
     "execution_count": 54,
     "metadata": {},
     "output_type": "execute_result"
    }
   ],
   "source": [
    "import os\n",
    "os.chdir('c:/users/howar/documents/database_management/Term_project/')\n",
    "os.getcwd()"
   ]
  },
  {
   "cell_type": "code",
   "execution_count": 2,
   "metadata": {},
   "outputs": [],
   "source": [
    "import numpy as np\n",
    "from pathlib import Path\n",
    "\n",
    "\n",
    "# Path to ImageNet DET Data\n",
    "data_dir = Path(\"c:/users/howar/documents/database_management/Term_project/dataset/DET/train/ILSVRC2013_train/\")\n",
    "\"\"\"\n",
    "########## Creating directories for each method\n",
    "We will first try lmdb and hdf5 to test the methodology\n",
    "When we successfully conduct the experiment on these two\n",
    "we can expand the scope to include more db storage methods.\n",
    "\"\"\"\n",
    "#disk_dir = Path(\"dataset/disk/\")\n",
    "#bolt_dir = Path(\"data/bolt/\")\n",
    "#badger_dir = Path(\"data/badger/\")\n",
    "\n",
    "lmdb_dir = Path(\"dataset/lmdb/\")\n",
    "hdf5_dir = Path(\"dataset/hdf5/\")\n",
    "\"\"\"\n",
    "######### Making folders for dataset versions\n",
    "skipping the directory for disk storage for now\n",
    "\"\"\"\n",
    "#disk_dir.mkdir(parents=True, exist_ok=True)\n",
    "lmdb_dir.mkdir(parents=True, exist_ok=True)\n",
    "hdf5_dir.mkdir(parents=True, exist_ok=True)"
   ]
  },
  {
   "cell_type": "code",
   "execution_count": 40,
   "metadata": {},
   "outputs": [
    {
     "name": "stdout",
     "output_type": "stream",
     "text": [
      "0\n"
     ]
    },
    {
     "ename": "AttributeError",
     "evalue": "'list' object has no attribute 'read'",
     "output_type": "error",
     "traceback": [
      "\u001b[1;31m---------------------------------------------------------------------------\u001b[0m",
      "\u001b[1;31mAttributeError\u001b[0m                            Traceback (most recent call last)",
      "\u001b[1;32m~\\Anaconda3\\lib\\site-packages\\PIL\\Image.py\u001b[0m in \u001b[0;36mopen\u001b[1;34m(fp, mode)\u001b[0m\n\u001b[0;32m   2612\u001b[0m     \u001b[1;32mtry\u001b[0m\u001b[1;33m:\u001b[0m\u001b[1;33m\u001b[0m\u001b[1;33m\u001b[0m\u001b[0m\n\u001b[1;32m-> 2613\u001b[1;33m         \u001b[0mfp\u001b[0m\u001b[1;33m.\u001b[0m\u001b[0mseek\u001b[0m\u001b[1;33m(\u001b[0m\u001b[1;36m0\u001b[0m\u001b[1;33m)\u001b[0m\u001b[1;33m\u001b[0m\u001b[1;33m\u001b[0m\u001b[0m\n\u001b[0m\u001b[0;32m   2614\u001b[0m     \u001b[1;32mexcept\u001b[0m \u001b[1;33m(\u001b[0m\u001b[0mAttributeError\u001b[0m\u001b[1;33m,\u001b[0m \u001b[0mio\u001b[0m\u001b[1;33m.\u001b[0m\u001b[0mUnsupportedOperation\u001b[0m\u001b[1;33m)\u001b[0m\u001b[1;33m:\u001b[0m\u001b[1;33m\u001b[0m\u001b[1;33m\u001b[0m\u001b[0m\n",
      "\u001b[1;31mAttributeError\u001b[0m: 'list' object has no attribute 'seek'",
      "\nDuring handling of the above exception, another exception occurred:\n",
      "\u001b[1;31mAttributeError\u001b[0m                            Traceback (most recent call last)",
      "\u001b[1;32m<ipython-input-40-d489cb259f0e>\u001b[0m in \u001b[0;36m<module>\u001b[1;34m\u001b[0m\n\u001b[0;32m     29\u001b[0m \u001b[1;33m\u001b[0m\u001b[0m\n\u001b[0;32m     30\u001b[0m \u001b[1;32mfor\u001b[0m \u001b[0mimage\u001b[0m \u001b[1;32min\u001b[0m \u001b[0mimages\u001b[0m\u001b[1;33m[\u001b[0m\u001b[1;36m1\u001b[0m\u001b[1;33m:\u001b[0m\u001b[1;36m5\u001b[0m\u001b[1;33m]\u001b[0m\u001b[1;33m:\u001b[0m\u001b[1;33m\u001b[0m\u001b[1;33m\u001b[0m\u001b[0m\n\u001b[1;32m---> 31\u001b[1;33m     \u001b[0mImage\u001b[0m\u001b[1;33m.\u001b[0m\u001b[0mopen\u001b[0m\u001b[1;33m(\u001b[0m\u001b[0mimage\u001b[0m\u001b[1;33m)\u001b[0m\u001b[1;33m\u001b[0m\u001b[1;33m\u001b[0m\u001b[0m\n\u001b[0m",
      "\u001b[1;32m~\\Anaconda3\\lib\\site-packages\\PIL\\Image.py\u001b[0m in \u001b[0;36mopen\u001b[1;34m(fp, mode)\u001b[0m\n\u001b[0;32m   2613\u001b[0m         \u001b[0mfp\u001b[0m\u001b[1;33m.\u001b[0m\u001b[0mseek\u001b[0m\u001b[1;33m(\u001b[0m\u001b[1;36m0\u001b[0m\u001b[1;33m)\u001b[0m\u001b[1;33m\u001b[0m\u001b[1;33m\u001b[0m\u001b[0m\n\u001b[0;32m   2614\u001b[0m     \u001b[1;32mexcept\u001b[0m \u001b[1;33m(\u001b[0m\u001b[0mAttributeError\u001b[0m\u001b[1;33m,\u001b[0m \u001b[0mio\u001b[0m\u001b[1;33m.\u001b[0m\u001b[0mUnsupportedOperation\u001b[0m\u001b[1;33m)\u001b[0m\u001b[1;33m:\u001b[0m\u001b[1;33m\u001b[0m\u001b[1;33m\u001b[0m\u001b[0m\n\u001b[1;32m-> 2615\u001b[1;33m         \u001b[0mfp\u001b[0m \u001b[1;33m=\u001b[0m \u001b[0mio\u001b[0m\u001b[1;33m.\u001b[0m\u001b[0mBytesIO\u001b[0m\u001b[1;33m(\u001b[0m\u001b[0mfp\u001b[0m\u001b[1;33m.\u001b[0m\u001b[0mread\u001b[0m\u001b[1;33m(\u001b[0m\u001b[1;33m)\u001b[0m\u001b[1;33m)\u001b[0m\u001b[1;33m\u001b[0m\u001b[1;33m\u001b[0m\u001b[0m\n\u001b[0m\u001b[0;32m   2616\u001b[0m         \u001b[0mexclusive_fp\u001b[0m \u001b[1;33m=\u001b[0m \u001b[1;32mTrue\u001b[0m\u001b[1;33m\u001b[0m\u001b[1;33m\u001b[0m\u001b[0m\n\u001b[0;32m   2617\u001b[0m \u001b[1;33m\u001b[0m\u001b[0m\n",
      "\u001b[1;31mAttributeError\u001b[0m: 'list' object has no attribute 'read'"
     ]
    }
   ],
   "source": [
    "import os\n",
    "from PIL import Image\n",
    "\"\"\" Organizing Data for Pre-Processing\n",
    "1. the training image set contains hundreds of folders with thousands of images\n",
    "###### First task is to organize all the file paths and images so they can be read easily.\n",
    "\"\"\"\n",
    "\n",
    "# identify folders containing images in the training set\n",
    "folders = []\n",
    "def folder_list(data_dir):\n",
    "    global folders\n",
    "    folders = os.listdir(data_dir)\n",
    "    return\n",
    "# make list of images within the folders of the training set\n",
    "images = []\n",
    "def gather_images(data_dir):\n",
    "    folder_list(data_dir)\n",
    "    global images\n",
    "    # uses the list of folders from folder_list\n",
    "    # makes images -> a list of images within 569 folders in data_dir\n",
    "    for folder in folders:\n",
    "        images.append(os.listdir(data_dir/folder))\n",
    "    return\n"
   ]
  },
  {
   "cell_type": "code",
   "execution_count": 53,
   "metadata": {},
   "outputs": [
    {
     "name": "stdout",
     "output_type": "stream",
     "text": [
      "569\n",
      "['n10565667_1005.JPEG', 'n10565667_10099.JPEG', 'n10565667_10135.JPEG', 'n10565667_10164.JPEG', 'n10565667_10177.JPEG', 'n10565667_10193.JPEG', 'n10565667_1022.JPEG', 'n10565667_10227.JPEG', 'n10565667_10230.JPEG', 'n10565667_10266.JPEG', 'n10565667_10281.JPEG', 'n10565667_10297.JPEG', 'n10565667_10469.JPEG', 'n10565667_10505.JPEG', 'n10565667_1052.JPEG', 'n10565667_10527.JPEG', 'n10565667_10534.JPEG', 'n10565667_10600.JPEG', 'n10565667_10613.JPEG', 'n10565667_1065.JPEG', 'n10565667_10659.JPEG', 'n10565667_1066.JPEG', 'n10565667_1067.JPEG', 'n10565667_10693.JPEG', 'n10565667_10775.JPEG', 'n10565667_1081.JPEG', 'n10565667_1086.JPEG', 'n10565667_10896.JPEG', 'n10565667_10904.JPEG', 'n10565667_10907.JPEG', 'n10565667_10923.JPEG', 'n10565667_110.JPEG', 'n10565667_1110.JPEG', 'n10565667_11115.JPEG', 'n10565667_11124.JPEG', 'n10565667_11133.JPEG', 'n10565667_11155.JPEG', 'n10565667_11188.JPEG', 'n10565667_11325.JPEG', 'n10565667_11343.JPEG', 'n10565667_11384.JPEG', 'n10565667_11420.JPEG', 'n10565667_11431.JPEG', 'n10565667_11455.JPEG', 'n10565667_11476.JPEG', 'n10565667_1150.JPEG', 'n10565667_1152.JPEG', 'n10565667_11538.JPEG', 'n10565667_11588.JPEG', 'n10565667_1161.JPEG', 'n10565667_11640.JPEG', 'n10565667_11684.JPEG', 'n10565667_117.JPEG', 'n10565667_1178.JPEG', 'n10565667_11841.JPEG', 'n10565667_1186.JPEG', 'n10565667_11909.JPEG', 'n10565667_1194.JPEG', 'n10565667_11965.JPEG', 'n10565667_12069.JPEG', 'n10565667_1208.JPEG', 'n10565667_12116.JPEG', 'n10565667_12149.JPEG', 'n10565667_1230.JPEG', 'n10565667_12341.JPEG', 'n10565667_12387.JPEG', 'n10565667_12449.JPEG', 'n10565667_12455.JPEG', 'n10565667_1250.JPEG', 'n10565667_1261.JPEG', 'n10565667_1264.JPEG', 'n10565667_1274.JPEG', 'n10565667_12750.JPEG', 'n10565667_12758.JPEG', 'n10565667_12767.JPEG', 'n10565667_1289.JPEG', 'n10565667_12909.JPEG', 'n10565667_12953.JPEG', 'n10565667_12965.JPEG', 'n10565667_1297.JPEG', 'n10565667_12979.JPEG', 'n10565667_1300.JPEG', 'n10565667_13076.JPEG', 'n10565667_1328.JPEG', 'n10565667_133.JPEG', 'n10565667_1331.JPEG', 'n10565667_1365.JPEG', 'n10565667_1377.JPEG', 'n10565667_1381.JPEG', 'n10565667_1394.JPEG', 'n10565667_1406.JPEG', 'n10565667_14145.JPEG', 'n10565667_14171.JPEG', 'n10565667_1424.JPEG', 'n10565667_143.JPEG', 'n10565667_1430.JPEG', 'n10565667_1437.JPEG', 'n10565667_1460.JPEG', 'n10565667_1464.JPEG', 'n10565667_14971.JPEG', 'n10565667_15019.JPEG', 'n10565667_1513.JPEG', 'n10565667_1525.JPEG', 'n10565667_1527.JPEG', 'n10565667_154.JPEG', 'n10565667_1546.JPEG', 'n10565667_1548.JPEG', 'n10565667_1561.JPEG', 'n10565667_15721.JPEG', 'n10565667_1603.JPEG', 'n10565667_166.JPEG', 'n10565667_16830.JPEG', 'n10565667_16842.JPEG', 'n10565667_1693.JPEG', 'n10565667_1717.JPEG', 'n10565667_17612.JPEG', 'n10565667_17640.JPEG', 'n10565667_1805.JPEG', 'n10565667_1808.JPEG', 'n10565667_1820.JPEG', 'n10565667_1829.JPEG', 'n10565667_186.JPEG', 'n10565667_1886.JPEG', 'n10565667_1918.JPEG', 'n10565667_1920.JPEG', 'n10565667_1946.JPEG', 'n10565667_19549.JPEG', 'n10565667_1971.JPEG', 'n10565667_2017.JPEG', 'n10565667_20212.JPEG', 'n10565667_20224.JPEG', 'n10565667_206.JPEG', 'n10565667_2064.JPEG', 'n10565667_2097.JPEG', 'n10565667_2104.JPEG', 'n10565667_2163.JPEG', 'n10565667_21702.JPEG', 'n10565667_218.JPEG', 'n10565667_2202.JPEG', 'n10565667_2216.JPEG', 'n10565667_2261.JPEG', 'n10565667_22731.JPEG', 'n10565667_23120.JPEG', 'n10565667_23121.JPEG', 'n10565667_233.JPEG', 'n10565667_236.JPEG', 'n10565667_2402.JPEG', 'n10565667_241.JPEG', 'n10565667_2430.JPEG', 'n10565667_245.JPEG', 'n10565667_247.JPEG', 'n10565667_2471.JPEG', 'n10565667_2521.JPEG', 'n10565667_258.JPEG', 'n10565667_2638.JPEG', 'n10565667_2768.JPEG', 'n10565667_2779.JPEG', 'n10565667_2903.JPEG', 'n10565667_2915.JPEG', 'n10565667_294.JPEG', 'n10565667_2997.JPEG', 'n10565667_3094.JPEG', 'n10565667_3097.JPEG', 'n10565667_311.JPEG', 'n10565667_3111.JPEG', 'n10565667_317.JPEG', 'n10565667_3189.JPEG', 'n10565667_3211.JPEG', 'n10565667_3228.JPEG', 'n10565667_3326.JPEG', 'n10565667_333.JPEG', 'n10565667_3453.JPEG', 'n10565667_351.JPEG', 'n10565667_3519.JPEG', 'n10565667_3555.JPEG', 'n10565667_3613.JPEG', 'n10565667_3627.JPEG', 'n10565667_3635.JPEG', 'n10565667_3646.JPEG', 'n10565667_3668.JPEG', 'n10565667_3672.JPEG', 'n10565667_3697.JPEG', 'n10565667_3724.JPEG', 'n10565667_3751.JPEG', 'n10565667_3758.JPEG', 'n10565667_3779.JPEG', 'n10565667_3781.JPEG', 'n10565667_389.JPEG', 'n10565667_3903.JPEG', 'n10565667_3909.JPEG', 'n10565667_3952.JPEG', 'n10565667_3957.JPEG', 'n10565667_3976.JPEG', 'n10565667_4004.JPEG', 'n10565667_4049.JPEG', 'n10565667_4053.JPEG', 'n10565667_4083.JPEG', 'n10565667_412.JPEG', 'n10565667_4124.JPEG', 'n10565667_414.JPEG', 'n10565667_4154.JPEG', 'n10565667_4185.JPEG', 'n10565667_4220.JPEG', 'n10565667_4230.JPEG', 'n10565667_4246.JPEG', 'n10565667_4249.JPEG', 'n10565667_4285.JPEG', 'n10565667_433.JPEG', 'n10565667_4415.JPEG', 'n10565667_4420.JPEG', 'n10565667_4426.JPEG', 'n10565667_4430.JPEG', 'n10565667_4450.JPEG', 'n10565667_448.JPEG', 'n10565667_4502.JPEG', 'n10565667_4531.JPEG', 'n10565667_4576.JPEG', 'n10565667_4578.JPEG', 'n10565667_4591.JPEG', 'n10565667_4689.JPEG', 'n10565667_4753.JPEG', 'n10565667_4780.JPEG', 'n10565667_4781.JPEG', 'n10565667_4788.JPEG', 'n10565667_4792.JPEG', 'n10565667_4814.JPEG', 'n10565667_483.JPEG', 'n10565667_4852.JPEG', 'n10565667_4853.JPEG', 'n10565667_4867.JPEG', 'n10565667_488.JPEG', 'n10565667_49.JPEG', 'n10565667_4930.JPEG', 'n10565667_4933.JPEG', 'n10565667_495.JPEG', 'n10565667_4963.JPEG', 'n10565667_4973.JPEG', 'n10565667_4994.JPEG', 'n10565667_5000.JPEG', 'n10565667_5004.JPEG', 'n10565667_501.JPEG', 'n10565667_5012.JPEG', 'n10565667_5040.JPEG', 'n10565667_5059.JPEG', 'n10565667_5065.JPEG', 'n10565667_507.JPEG', 'n10565667_5095.JPEG', 'n10565667_51.JPEG', 'n10565667_5101.JPEG', 'n10565667_5136.JPEG', 'n10565667_5144.JPEG', 'n10565667_516.JPEG', 'n10565667_5168.JPEG', 'n10565667_5201.JPEG', 'n10565667_5219.JPEG', 'n10565667_5227.JPEG', 'n10565667_5233.JPEG', 'n10565667_5244.JPEG', 'n10565667_5318.JPEG', 'n10565667_5333.JPEG', 'n10565667_5340.JPEG', 'n10565667_5363.JPEG', 'n10565667_537.JPEG', 'n10565667_5374.JPEG', 'n10565667_5377.JPEG', 'n10565667_5400.JPEG', 'n10565667_5405.JPEG', 'n10565667_5423.JPEG', 'n10565667_5457.JPEG', 'n10565667_546.JPEG', 'n10565667_5493.JPEG', 'n10565667_5531.JPEG', 'n10565667_5535.JPEG', 'n10565667_5551.JPEG', 'n10565667_5593.JPEG', 'n10565667_5595.JPEG', 'n10565667_562.JPEG', 'n10565667_5627.JPEG', 'n10565667_5633.JPEG', 'n10565667_5636.JPEG', 'n10565667_5667.JPEG', 'n10565667_5688.JPEG', 'n10565667_5697.JPEG', 'n10565667_5717.JPEG', 'n10565667_5736.JPEG', 'n10565667_5751.JPEG', 'n10565667_5781.JPEG', 'n10565667_5782.JPEG', 'n10565667_5797.JPEG', 'n10565667_5804.JPEG', 'n10565667_5807.JPEG', 'n10565667_5828.JPEG', 'n10565667_5837.JPEG', 'n10565667_5856.JPEG', 'n10565667_5861.JPEG', 'n10565667_5873.JPEG', 'n10565667_5892.JPEG', 'n10565667_590.JPEG', 'n10565667_595.JPEG', 'n10565667_5961.JPEG', 'n10565667_5966.JPEG', 'n10565667_6015.JPEG', 'n10565667_603.JPEG', 'n10565667_6032.JPEG', 'n10565667_6048.JPEG', 'n10565667_6061.JPEG', 'n10565667_610.JPEG', 'n10565667_6132.JPEG', 'n10565667_6141.JPEG', 'n10565667_6149.JPEG', 'n10565667_6161.JPEG', 'n10565667_623.JPEG', 'n10565667_6262.JPEG', 'n10565667_6277.JPEG', 'n10565667_6283.JPEG', 'n10565667_629.JPEG', 'n10565667_6304.JPEG', 'n10565667_6332.JPEG', 'n10565667_6384.JPEG', 'n10565667_6393.JPEG', 'n10565667_6436.JPEG', 'n10565667_6438.JPEG', 'n10565667_644.JPEG', 'n10565667_6463.JPEG', 'n10565667_6490.JPEG', 'n10565667_6491.JPEG', 'n10565667_652.JPEG', 'n10565667_6583.JPEG', 'n10565667_66.JPEG', 'n10565667_660.JPEG', 'n10565667_6624.JPEG', 'n10565667_6641.JPEG', 'n10565667_6651.JPEG', 'n10565667_6670.JPEG', 'n10565667_6674.JPEG', 'n10565667_6685.JPEG', 'n10565667_6692.JPEG', 'n10565667_6706.JPEG', 'n10565667_680.JPEG', 'n10565667_6802.JPEG', 'n10565667_6820.JPEG', 'n10565667_6833.JPEG', 'n10565667_6842.JPEG', 'n10565667_6857.JPEG', 'n10565667_6862.JPEG', 'n10565667_6894.JPEG', 'n10565667_6932.JPEG', 'n10565667_694.JPEG', 'n10565667_6953.JPEG', 'n10565667_6979.JPEG', 'n10565667_6990.JPEG', 'n10565667_7013.JPEG', 'n10565667_704.JPEG', 'n10565667_7050.JPEG', 'n10565667_7059.JPEG', 'n10565667_7062.JPEG', 'n10565667_709.JPEG', 'n10565667_7094.JPEG', 'n10565667_7122.JPEG', 'n10565667_7123.JPEG', 'n10565667_7145.JPEG', 'n10565667_7185.JPEG', 'n10565667_7190.JPEG', 'n10565667_7196.JPEG', 'n10565667_7273.JPEG', 'n10565667_732.JPEG', 'n10565667_7349.JPEG', 'n10565667_7384.JPEG', 'n10565667_7398.JPEG', 'n10565667_7444.JPEG', 'n10565667_748.JPEG', 'n10565667_7481.JPEG', 'n10565667_7550.JPEG', 'n10565667_7586.JPEG', 'n10565667_761.JPEG', 'n10565667_7627.JPEG', 'n10565667_7629.JPEG', 'n10565667_7640.JPEG', 'n10565667_7828.JPEG', 'n10565667_7879.JPEG', 'n10565667_789.JPEG', 'n10565667_7901.JPEG', 'n10565667_8014.JPEG', 'n10565667_8023.JPEG', 'n10565667_8031.JPEG', 'n10565667_8037.JPEG', 'n10565667_8084.JPEG', 'n10565667_8110.JPEG', 'n10565667_8115.JPEG', 'n10565667_8144.JPEG', 'n10565667_8148.JPEG', 'n10565667_8268.JPEG', 'n10565667_8319.JPEG', 'n10565667_8385.JPEG', 'n10565667_8388.JPEG', 'n10565667_8400.JPEG', 'n10565667_8401.JPEG', 'n10565667_8429.JPEG', 'n10565667_8472.JPEG', 'n10565667_8481.JPEG', 'n10565667_8488.JPEG', 'n10565667_8505.JPEG', 'n10565667_8511.JPEG', 'n10565667_8533.JPEG', 'n10565667_8542.JPEG', 'n10565667_8574.JPEG', 'n10565667_8608.JPEG', 'n10565667_868.JPEG', 'n10565667_8705.JPEG', 'n10565667_8720.JPEG', 'n10565667_8743.JPEG', 'n10565667_8761.JPEG', 'n10565667_8762.JPEG', 'n10565667_8795.JPEG', 'n10565667_881.JPEG', 'n10565667_8823.JPEG', 'n10565667_885.JPEG', 'n10565667_8852.JPEG', 'n10565667_8855.JPEG', 'n10565667_8875.JPEG', 'n10565667_8895.JPEG', 'n10565667_89.JPEG', 'n10565667_8913.JPEG', 'n10565667_892.JPEG', 'n10565667_8943.JPEG', 'n10565667_8960.JPEG', 'n10565667_8978.JPEG', 'n10565667_9009.JPEG', 'n10565667_9024.JPEG', 'n10565667_9047.JPEG', 'n10565667_9056.JPEG', 'n10565667_9069.JPEG', 'n10565667_907.JPEG', 'n10565667_9077.JPEG', 'n10565667_9140.JPEG', 'n10565667_9213.JPEG', 'n10565667_9234.JPEG', 'n10565667_9252.JPEG', 'n10565667_9299.JPEG', 'n10565667_934.JPEG', 'n10565667_9351.JPEG', 'n10565667_9353.JPEG', 'n10565667_9370.JPEG', 'n10565667_9372.JPEG', 'n10565667_9393.JPEG', 'n10565667_9406.JPEG', 'n10565667_9425.JPEG', 'n10565667_946.JPEG', 'n10565667_947.JPEG', 'n10565667_9587.JPEG', 'n10565667_9590.JPEG', 'n10565667_96.JPEG', 'n10565667_9622.JPEG', 'n10565667_9624.JPEG', 'n10565667_9642.JPEG', 'n10565667_970.JPEG', 'n10565667_9716.JPEG', 'n10565667_9719.JPEG', 'n10565667_9728.JPEG', 'n10565667_9763.JPEG', 'n10565667_9772.JPEG', 'n10565667_9788.JPEG', 'n10565667_9790.JPEG', 'n10565667_9793.JPEG', 'n10565667_980.JPEG', 'n10565667_9832.JPEG', 'n10565667_984.JPEG', 'n10565667_9854.JPEG', 'n10565667_9855.JPEG', 'n10565667_9896.JPEG', 'n10565667_993.JPEG', 'n10565667_994.JPEG', 'n10565667_9970.JPEG']\n"
     ]
    }
   ],
   "source": [
    "print(len(images))\n",
    "print(images[568])\n",
    "#isinstance(images[1:5], list)\n",
    "#gather_images(data_dir)\n",
    "\n",
    "#for image in images[1:5]:\n",
    "    #Image.open(image)"
   ]
  },
  {
   "cell_type": "code",
   "execution_count": 13,
   "metadata": {},
   "outputs": [
    {
     "name": "stdout",
     "output_type": "stream",
     "text": [
      "[]\n"
     ]
    }
   ],
   "source": []
  },
  {
   "cell_type": "code",
   "execution_count": 64,
   "metadata": {},
   "outputs": [
    {
     "ename": "PermissionError",
     "evalue": "[Errno 13] Permission denied: 'C:\\\\Users\\\\howar\\\\Documents\\\\Database_Management\\\\Term_Project\\\\Dataset\\\\DET\\\\train\\\\ILSVRC2013_train\\\\n00141669'",
     "output_type": "error",
     "traceback": [
      "\u001b[1;31m---------------------------------------------------------------------------\u001b[0m",
      "\u001b[1;31mPermissionError\u001b[0m                           Traceback (most recent call last)",
      "\u001b[1;32m<ipython-input-64-beac37439ec1>\u001b[0m in \u001b[0;36m<module>\u001b[1;34m\u001b[0m\n\u001b[0;32m      1\u001b[0m \u001b[1;32mfor\u001b[0m \u001b[0mpath\u001b[0m \u001b[1;32min\u001b[0m \u001b[0mimg_paths\u001b[0m\u001b[1;33m[\u001b[0m\u001b[1;36m1\u001b[0m\u001b[1;33m:\u001b[0m\u001b[1;36m5\u001b[0m\u001b[1;33m]\u001b[0m\u001b[1;33m:\u001b[0m\u001b[1;33m\u001b[0m\u001b[1;33m\u001b[0m\u001b[0m\n\u001b[1;32m----> 2\u001b[1;33m     \u001b[0mImage\u001b[0m\u001b[1;33m.\u001b[0m\u001b[0mopen\u001b[0m\u001b[1;33m(\u001b[0m\u001b[0mpath\u001b[0m\u001b[1;33m)\u001b[0m\u001b[1;33m\u001b[0m\u001b[1;33m\u001b[0m\u001b[0m\n\u001b[0m",
      "\u001b[1;32m~\\Anaconda3\\lib\\site-packages\\PIL\\Image.py\u001b[0m in \u001b[0;36mopen\u001b[1;34m(fp, mode)\u001b[0m\n\u001b[0;32m   2607\u001b[0m \u001b[1;33m\u001b[0m\u001b[0m\n\u001b[0;32m   2608\u001b[0m     \u001b[1;32mif\u001b[0m \u001b[0mfilename\u001b[0m\u001b[1;33m:\u001b[0m\u001b[1;33m\u001b[0m\u001b[1;33m\u001b[0m\u001b[0m\n\u001b[1;32m-> 2609\u001b[1;33m         \u001b[0mfp\u001b[0m \u001b[1;33m=\u001b[0m \u001b[0mbuiltins\u001b[0m\u001b[1;33m.\u001b[0m\u001b[0mopen\u001b[0m\u001b[1;33m(\u001b[0m\u001b[0mfilename\u001b[0m\u001b[1;33m,\u001b[0m \u001b[1;34m\"rb\"\u001b[0m\u001b[1;33m)\u001b[0m\u001b[1;33m\u001b[0m\u001b[1;33m\u001b[0m\u001b[0m\n\u001b[0m\u001b[0;32m   2610\u001b[0m         \u001b[0mexclusive_fp\u001b[0m \u001b[1;33m=\u001b[0m \u001b[1;32mTrue\u001b[0m\u001b[1;33m\u001b[0m\u001b[1;33m\u001b[0m\u001b[0m\n\u001b[0;32m   2611\u001b[0m \u001b[1;33m\u001b[0m\u001b[0m\n",
      "\u001b[1;31mPermissionError\u001b[0m: [Errno 13] Permission denied: 'C:\\\\Users\\\\howar\\\\Documents\\\\Database_Management\\\\Term_Project\\\\Dataset\\\\DET\\\\train\\\\ILSVRC2013_train\\\\n00141669'"
     ]
    }
   ],
   "source": []
  },
  {
   "cell_type": "code",
   "execution_count": 61,
   "metadata": {},
   "outputs": [
    {
     "ename": "NameError",
     "evalue": "name 'filenames' is not defined",
     "output_type": "error",
     "traceback": [
      "\u001b[1;31m---------------------------------------------------------------------------\u001b[0m",
      "\u001b[1;31mNameError\u001b[0m                                 Traceback (most recent call last)",
      "\u001b[1;32m<ipython-input-61-739066373a29>\u001b[0m in \u001b[0;36m<module>\u001b[1;34m\u001b[0m\n\u001b[0;32m      3\u001b[0m \u001b[1;33m\u001b[0m\u001b[0m\n\u001b[0;32m      4\u001b[0m \u001b[1;32mfor\u001b[0m \u001b[0mfilename\u001b[0m \u001b[1;32min\u001b[0m \u001b[0mos\u001b[0m\u001b[1;33m.\u001b[0m\u001b[0mwalk\u001b[0m\u001b[1;33m(\u001b[0m\u001b[0mdata_dir\u001b[0m\u001b[1;33m)\u001b[0m\u001b[1;33m:\u001b[0m\u001b[1;33m\u001b[0m\u001b[1;33m\u001b[0m\u001b[0m\n\u001b[1;32m----> 5\u001b[1;33m     \u001b[0mprint\u001b[0m\u001b[1;33m(\u001b[0m\u001b[0mfilenames\u001b[0m\u001b[1;33m)\u001b[0m\u001b[1;33m\u001b[0m\u001b[1;33m\u001b[0m\u001b[0m\n\u001b[0m",
      "\u001b[1;31mNameError\u001b[0m: name 'filenames' is not defined"
     ]
    }
   ],
   "source": [
    "import os\n",
    "os.walk(data_dir)\n",
    "\n",
    "for (os.listdir(data_dir)filename in os.walk(data_dir):\n",
    "    print(filenames)"
   ]
  },
  {
   "cell_type": "code",
   "execution_count": 11,
   "metadata": {},
   "outputs": [
    {
     "ename": "NameError",
     "evalue": "name 'batch_data' is not defined",
     "output_type": "error",
     "traceback": [
      "\u001b[1;31m---------------------------------------------------------------------------\u001b[0m",
      "\u001b[1;31mNameError\u001b[0m                                 Traceback (most recent call last)",
      "\u001b[1;32m<ipython-input-11-7ce45192e2a3>\u001b[0m in \u001b[0;36m<module>\u001b[1;34m\u001b[0m\n\u001b[0;32m      3\u001b[0m \u001b[1;32mfor\u001b[0m \u001b[0msynset\u001b[0m \u001b[1;32min\u001b[0m \u001b[0mdata_dir\u001b[0m\u001b[1;33m.\u001b[0m\u001b[0mglob\u001b[0m\u001b[1;33m(\u001b[0m\u001b[1;34m\"n*\"\u001b[0m\u001b[1;33m)\u001b[0m\u001b[1;33m:\u001b[0m\u001b[1;33m\u001b[0m\u001b[1;33m\u001b[0m\u001b[0m\n\u001b[0;32m      4\u001b[0m     \u001b[1;31m# batch_data = unpickle(batch) <-- images are in JPEG format\u001b[0m\u001b[1;33m\u001b[0m\u001b[1;33m\u001b[0m\u001b[1;33m\u001b[0m\u001b[0m\n\u001b[1;32m----> 5\u001b[1;33m     \u001b[1;32mfor\u001b[0m \u001b[0mi\u001b[0m\u001b[1;33m,\u001b[0m \u001b[0mflat_im\u001b[0m \u001b[1;32min\u001b[0m \u001b[0menumerate\u001b[0m\u001b[1;33m(\u001b[0m\u001b[0mbatch_data\u001b[0m\u001b[1;33m[\u001b[0m\u001b[1;34mb\"data\"\u001b[0m\u001b[1;33m]\u001b[0m\u001b[1;33m)\u001b[0m\u001b[1;33m:\u001b[0m\u001b[1;33m\u001b[0m\u001b[1;33m\u001b[0m\u001b[0m\n\u001b[0m\u001b[0;32m      6\u001b[0m         \u001b[0mim_channels\u001b[0m \u001b[1;33m=\u001b[0m \u001b[1;33m[\u001b[0m\u001b[1;33m]\u001b[0m\u001b[1;33m\u001b[0m\u001b[1;33m\u001b[0m\u001b[0m\n\u001b[0;32m      7\u001b[0m         \u001b[1;31m# Each image is flattened, with channels in order of R, G, B\u001b[0m\u001b[1;33m\u001b[0m\u001b[1;33m\u001b[0m\u001b[1;33m\u001b[0m\u001b[0m\n",
      "\u001b[1;31mNameError\u001b[0m: name 'batch_data' is not defined"
     ]
    }
   ],
   "source": [
    "# the following code loads all of the images into a NumPy array:\n",
    "images, labels = [], []\n",
    "for synset in data_dir.glob(\"n*\"):\n",
    "    # batch_data = unpickle(batch) <-- images are in JPEG format, so this must be modified\n",
    "    batch_data = \n",
    "    for i, flat_im in enumerate(batch_data[b\"data\"]):\n",
    "        im_channels = []\n",
    "        # Each image is flattened, with channels in order of R, G, B\n",
    "        for j in range(3):\n",
    "            im_channels.append(\n",
    "                flat_im[j * 1024 : (j + 1) * 1024].reshape((256, 256))\n",
    "            )\n",
    "        # Reconstruct the original image\n",
    "        images.append(np.dstack((im_channels)))\n",
    "        # Save the label\n",
    "        labels.append(batch_data[b\"labels\"][i])\n",
    "\n",
    "print(\"Loaded CIFAR-10 training set:\")\n",
    "print(f\" - np.shape(images)     {np.shape(images)}\")\n",
    "print(f\" - np.shape(labels)     {np.shape(labels)}\")\n"
   ]
  },
  {
   "cell_type": "code",
   "execution_count": null,
   "metadata": {},
   "outputs": [],
   "source": []
  }
 ],
 "metadata": {
  "kernelspec": {
   "display_name": "Python 3",
   "language": "python",
   "name": "python3"
  },
  "language_info": {
   "codemirror_mode": {
    "name": "ipython",
    "version": 3
   },
   "file_extension": ".py",
   "mimetype": "text/x-python",
   "name": "python",
   "nbconvert_exporter": "python",
   "pygments_lexer": "ipython3",
   "version": "3.7.1"
  }
 },
 "nbformat": 4,
 "nbformat_minor": 2
}
